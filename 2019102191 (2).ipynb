{
 "cells": [
  {
   "cell_type": "markdown",
   "metadata": {},
   "source": [
    "## Answer sheet for SWCON104-01 Midterm Examonation"
   ]
  },
  {
   "cell_type": "markdown",
   "metadata": {},
   "source": [
    "### WARNING!\n",
    "##### Answer sheet should be submitted as Student-ID.ipynb through KLAS before 21:10"
   ]
  },
  {
   "cell_type": "markdown",
   "metadata": {},
   "source": [
    "### Execute to enter your Name and Student ID"
   ]
  },
  {
   "cell_type": "code",
   "execution_count": 1,
   "metadata": {},
   "outputs": [
    {
     "name": "stdout",
     "output_type": "stream",
     "text": [
      "Student ID: 신주영\n",
      "Name: 2019102191\n",
      "Magic Number: [['172.16.28.18', '172.16.28.18', '2019:4:22-21:2:18'], ['신주영', '2019102191']]\n"
     ]
    }
   ],
   "source": [
    "# Execute when an examination begins.\n",
    "StudentInfo1 = str(input(\"Student ID: \"))\n",
    "StudentInfo2 = str(input(\"Name: \"))\n",
    "\n",
    "# WARNING: Don't remove or modify below lines - Zero score can be given when you ignore.\n",
    "import csv\n",
    "import socket\n",
    "import datetime\n",
    "\n",
    "magicHistory = []\n",
    "magicA = socket.gethostbyname(socket.gethostname())\n",
    "magicB = socket.gethostbyname(socket.getfqdn())\n",
    "dt = datetime.datetime.now()\n",
    "magicStr = \"{}:{}:{}-{}:{}:{}\".format(dt.year, dt.month, dt.day, dt.hour, dt.minute, dt.second)\n",
    "magicHistory.append([magicA, magicB, magicStr])    \n",
    "magicHistory.append([StudentInfo1, StudentInfo2])\n",
    "\n",
    "print(\"Magic Number:\", magicHistory)"
   ]
  },
  {
   "cell_type": "markdown",
   "metadata": {},
   "source": [
    "### Answer for Question.1"
   ]
  },
  {
   "cell_type": "code",
   "execution_count": 2,
   "metadata": {},
   "outputs": [],
   "source": [
    "list = [1,2,1,8,9,4,2,5,1,3]\n",
    "userInput = 8\n",
    "\n",
    "# start of function createSmallerList()\n",
    "def createSmallerList(list, num):\n",
    "    b = []\n",
    "    cnt = 0\n",
    "    for i in range(len(list)):\n",
    "        if list[i] < num:\n",
    "            b.append(list[i])\n",
    "            cnt += 1\n",
    "    b.sort()\n",
    "    for i in range(cnt-1):\n",
    "        if b[i] == b[i+1]:\n",
    "            b[i] = 0\n",
    "    for i in range(b.count(0)):\n",
    "        b.remove(0)\n",
    "    b.sort()\n",
    "    return b\n",
    "# end of function createSmallerList()\n",
    "\n",
    "listResult = createSmallerList(list, userInput)"
   ]
  },
  {
   "cell_type": "markdown",
   "metadata": {},
   "source": [
    "##### Self Check for Answer"
   ]
  },
  {
   "cell_type": "code",
   "execution_count": 3,
   "metadata": {},
   "outputs": [],
   "source": [
    "list = [1,2,1,8,9,4,2,5,1,3]\n",
    "expectedAnswer1 = [1, 2, 3, 4, 5]\n",
    "listResult = createSmallerList(list, 8)\n",
    "assert listResult == expectedAnswer1"
   ]
  },
  {
   "cell_type": "markdown",
   "metadata": {},
   "source": [
    "### Answer for Question.2"
   ]
  },
  {
   "cell_type": "code",
   "execution_count": 4,
   "metadata": {},
   "outputs": [
    {
     "name": "stdout",
     "output_type": "stream",
     "text": [
      "11\n",
      " \t1\t2\t3\t4\t5\t6\t7\t8\t9\t10\t11\t\n",
      "1\t-\t+\t+\t+\t+\t+\t+\t+\t+\t+\t+\t\n",
      "2\t3\t-\t+\t+\t+\t+\t+\t+\t+\t+\t+\t\n",
      "3\t4\t5\t-\t+\t+\t+\t+\t+\t+\t+\t+\t\n",
      "4\t5\t*\t7\t-\t+\t+\t+\t+\t+\t+\t+\t\n",
      "5\t6\t7\t8\t9\t-\t+\t+\t+\t+\t+\t+\t\n",
      "6\t7\t*\t9\t*\t11\t-\t+\t+\t+\t+\t+\t\n",
      "7\t8\t9\t10\t11\t12\t13\t-\t+\t+\t+\t+\t\n",
      "8\t9\t*\t11\t*\t13\t*\t15\t-\t+\t+\t+\t\n",
      "9\t10\t11\t12\t13\t14\t15\t16\t17\t-\t+\t+\t\n",
      "10\t11\t*\t13\t*\t15\t*\t17\t*\t19\t-\t+\t\n",
      "11\t12\t13\t14\t15\t16\t17\t18\t19\t20\t21\t-\t\n"
     ]
    }
   ],
   "source": [
    "userInput = int(input())# request matrix size from user\n",
    "\n",
    "# start of function print_table()\n",
    "def print_table(userInput):\n",
    "    arr = [[' ' for i in range(userInput+2)] for j in range(userInput+2)]\n",
    "    for i in range(1, userInput+1):\n",
    "        arr[i][0] = i\n",
    "    for i in range(1, userInput+1):\n",
    "        arr[0][i] = i\n",
    "    for i in range(1, userInput+1):\n",
    "        for j in range(1, userInput+1):\n",
    "            if i == j:\n",
    "                arr[i][j] = '-'\n",
    "            elif j>i:\n",
    "                arr[i][j] = '+'\n",
    "            else:\n",
    "                if (i%2 == 0) and (j%2 == 0):\n",
    "                    arr[i][j] = '*'\n",
    "                else:\n",
    "                    arr[i][j] = i+j\n",
    "    for i in range(userInput+1):\n",
    "        for j in range(userInput+1):\n",
    "            print(arr[i][j], end = \"\\t\")\n",
    "        print(\"\")\n",
    "# end of function print_table()\n",
    "        \n",
    "print_table(userInput)"
   ]
  },
  {
   "cell_type": "markdown",
   "metadata": {},
   "source": [
    "### Answer for Question.3"
   ]
  },
  {
   "cell_type": "code",
   "execution_count": 5,
   "metadata": {},
   "outputs": [
    {
     "name": "stdout",
     "output_type": "stream",
     "text": [
      "[[2, 3], [4, 5]]\n",
      "[[1, 2], [3, 4]]\n"
     ]
    }
   ],
   "source": [
    "'''\n",
    "\n",
    "[start of answer in Korean or English]\n",
    "리스트 a에는 [1, 2]와 [3, 4]의 주소가 저장되어 있다.\n",
    "b = a[:]와 같은 방식으로 b를 선언하면 b에는 리스트 a에 저장된 value의 주소가 저장된다.\n",
    "따라서 a에 저장된 value의 값을 변경하면 value의 주소를 공유하고 있는 b도 같이 변경된 값을 가진다.\n",
    "[end of answer]\n",
    "\n",
    "''' \n",
    "\n",
    "# start of modified code\n",
    "a = [[1, 2], [3, 4]]\n",
    "b = [[0, 0], [0, 0]]\n",
    "for i in range(0, 2):\n",
    "    for j in range(0, 2):\n",
    "        b[i][j] = a[i][j]\n",
    "for i in range(0, 2):\n",
    "    for j in range(0, 2):\n",
    "        a[i][j] = a[i][j]+1\n",
    "print(a)\n",
    "print(b)\n",
    "# end of modified code"
   ]
  },
  {
   "cell_type": "code",
   "execution_count": null,
   "metadata": {},
   "outputs": [],
   "source": []
  }
 ],
 "metadata": {
  "kernelspec": {
   "display_name": "Python 3",
   "language": "python",
   "name": "python3"
  },
  "language_info": {
   "codemirror_mode": {
    "name": "ipython",
    "version": 3
   },
   "file_extension": ".py",
   "mimetype": "text/x-python",
   "name": "python",
   "nbconvert_exporter": "python",
   "pygments_lexer": "ipython3",
   "version": "3.7.1"
  }
 },
 "nbformat": 4,
 "nbformat_minor": 2
}
