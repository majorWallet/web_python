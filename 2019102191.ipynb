{
 "cells": [
  {
   "cell_type": "code",
   "execution_count": 2,
   "metadata": {},
   "outputs": [
    {
     "name": "stdout",
     "output_type": "stream",
     "text": [
      "3\n"
     ]
    }
   ],
   "source": [
    "inday = 20180101\n",
    "outday = 20180214\n",
    "\n",
    "def ymd2days(yyyymmdd):\n",
    "    year = yyyymmdd//10000\n",
    "    month = yyyymmdd//100-100*year\n",
    "    day = yyyymmdd-(10000*year+100*month)\n",
    "    return year*360+month*30+day\n",
    "def calHol(inday, outday):\n",
    "    total_inday = ymd2days(inday)\n",
    "    total_outday = ymd2days(outday)\n",
    "    workday = total_outday-total_inday\n",
    "    return workday\n",
    "workday = calHol(inday, outday)\n",
    "print(workday//14)"
   ]
  },
  {
   "cell_type": "code",
   "execution_count": null,
   "metadata": {},
   "outputs": [],
   "source": []
  }
 ],
 "metadata": {
  "kernelspec": {
   "display_name": "Python 3",
   "language": "python",
   "name": "python3"
  },
  "language_info": {
   "codemirror_mode": {
    "name": "ipython",
    "version": 3
   },
   "file_extension": ".py",
   "mimetype": "text/x-python",
   "name": "python",
   "nbconvert_exporter": "python",
   "pygments_lexer": "ipython3",
   "version": "3.7.6"
  }
 },
 "nbformat": 4,
 "nbformat_minor": 2
}
